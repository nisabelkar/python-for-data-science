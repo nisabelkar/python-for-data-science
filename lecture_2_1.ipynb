{
  "nbformat": 4,
  "nbformat_minor": 0,
  "metadata": {
    "colab": {
      "name": "lecture 2.1.ipynb",
      "provenance": [],
      "authorship_tag": "ABX9TyPMHSzUaQOq7B9sZvcl0bqn",
      "include_colab_link": true
    },
    "kernelspec": {
      "name": "python3",
      "display_name": "Python 3"
    }
  },
  "cells": [
    {
      "cell_type": "markdown",
      "metadata": {
        "id": "view-in-github",
        "colab_type": "text"
      },
      "source": [
        "<a href=\"https://colab.research.google.com/github/nisabelkar/python-for-data-science/blob/master/lecture_2_1.ipynb\" target=\"_parent\"><img src=\"https://colab.research.google.com/assets/colab-badge.svg\" alt=\"Open In Colab\"/></a>"
      ]
    },
    {
      "cell_type": "code",
      "metadata": {
        "id": "RQfKKoVO0JV6",
        "colab_type": "code",
        "colab": {}
      },
      "source": [
        ""
      ],
      "execution_count": 0,
      "outputs": []
    },
    {
      "cell_type": "markdown",
      "metadata": {
        "id": "JEPzoX2i1Hqy",
        "colab_type": "text"
      },
      "source": [
        "#if else statement"
      ]
    },
    {
      "cell_type": "code",
      "metadata": {
        "id": "wVVfR2Hh1KUS",
        "colab_type": "code",
        "outputId": "bc94d173-8d64-4309-abbc-a8e27e6ca85c",
        "colab": {
          "base_uri": "https://localhost:8080/",
          "height": 34
        }
      },
      "source": [
        "age=75\n",
        "if age>60:\n",
        " print('senior citizen')\n",
        "else:\n",
        "  print('adult')"
      ],
      "execution_count": 0,
      "outputs": [
        {
          "output_type": "stream",
          "text": [
            "senior citizen\n"
          ],
          "name": "stdout"
        }
      ]
    },
    {
      "cell_type": "code",
      "metadata": {
        "id": "wm7E267B2d4L",
        "colab_type": "code",
        "outputId": "2ea8fde8-3d4c-4ece-f917-7eaec494c488",
        "colab": {
          "base_uri": "https://localhost:8080/",
          "height": 51
        }
      },
      "source": [
        "age=int(input(\"enter your age\"))\n",
        "if age>18:\n",
        "  print(\"you can ride\")\n",
        "else:\n",
        "  print(\"you cannot ride\")"
      ],
      "execution_count": 0,
      "outputs": [
        {
          "output_type": "stream",
          "text": [
            "enter your age25\n",
            "you can ride\n"
          ],
          "name": "stdout"
        }
      ]
    },
    {
      "cell_type": "code",
      "metadata": {
        "id": "ijYZI1NF24VC",
        "colab_type": "code",
        "colab": {}
      },
      "source": [
        ""
      ],
      "execution_count": 0,
      "outputs": []
    },
    {
      "cell_type": "markdown",
      "metadata": {
        "id": "3dDusNtp9CPW",
        "colab_type": "text"
      },
      "source": [
        "#nested if statement"
      ]
    },
    {
      "cell_type": "code",
      "metadata": {
        "id": "7d1FtFSg9GbJ",
        "colab_type": "code",
        "outputId": "f2b3f487-bcf6-461e-8aa2-f9325d79bed3",
        "colab": {
          "base_uri": "https://localhost:8080/",
          "height": 136
        }
      },
      "source": [
        "#define an input variable for income\n",
        "print ('Enter your income \\n')\n",
        "income=int(input())\n",
        "\n",
        "#define an input variable for ongoing_loan\n",
        "print('Do you have an ongoing_loan \\n')\n",
        "ongoing_loan=str(input())\n",
        "\n",
        "#start the if statement\n",
        "\n",
        "if income>50000:\n",
        "  if ongoing_loan =='yes':\n",
        "    print('sorry your not eligible for loan')\n",
        "  else:\n",
        "    print('congrats,you are eligible')\n",
        "else:\n",
        "    print('sorry your not eligible for loan')"
      ],
      "execution_count": 0,
      "outputs": [
        {
          "output_type": "stream",
          "text": [
            "Enter your income \n",
            "\n",
            "400000\n",
            "Do you have an ongoing_loan \n",
            "\n",
            "yes\n",
            "sorry your not eligible for loan\n"
          ],
          "name": "stdout"
        }
      ]
    },
    {
      "cell_type": "markdown",
      "metadata": {
        "id": "LghqakBBV8aw",
        "colab_type": "text"
      },
      "source": [
        "#looping conditions"
      ]
    },
    {
      "cell_type": "code",
      "metadata": {
        "id": "q8LyIp7Q_uXi",
        "colab_type": "code",
        "outputId": "5ffeae38-a72f-406b-e2d6-8e261e288858",
        "colab": {
          "base_uri": "https://localhost:8080/",
          "height": 187
        }
      },
      "source": [
        "#looping is a continous process\n",
        "#example:print random numbers\n",
        "list=[1,2,3,4,5,6,7,8,9,10]\n",
        "for nos in list:\n",
        "  print(nos)"
      ],
      "execution_count": 0,
      "outputs": [
        {
          "output_type": "stream",
          "text": [
            "1\n",
            "2\n",
            "3\n",
            "4\n",
            "5\n",
            "6\n",
            "7\n",
            "8\n",
            "9\n",
            "10\n"
          ],
          "name": "stdout"
        }
      ]
    },
    {
      "cell_type": "code",
      "metadata": {
        "id": "_Xzfvg9RTOz4",
        "colab_type": "code",
        "outputId": "4ca0c033-3ca3-4df3-e366-3fdc66241d38",
        "colab": {
          "base_uri": "https://localhost:8080/",
          "height": 119
        }
      },
      "source": [
        "#conditional looping\n",
        "#from the list only print odd numbers\n",
        "numbers=[1,3,6,5,7,9,13,]\n",
        "for x in numbers:\n",
        "  if x%2 !=0:\n",
        "     print(x)"
      ],
      "execution_count": 0,
      "outputs": [
        {
          "output_type": "stream",
          "text": [
            "1\n",
            "3\n",
            "5\n",
            "7\n",
            "9\n",
            "13\n"
          ],
          "name": "stdout"
        }
      ]
    },
    {
      "cell_type": "code",
      "metadata": {
        "id": "mIGFWGC6Wkn2",
        "colab_type": "code",
        "outputId": "55c0600d-552b-438f-cb46-a4eeed0e898f",
        "colab": {
          "base_uri": "https://localhost:8080/",
          "height": 68
        }
      },
      "source": [
        " #print even nos\n",
        "numbers=[1,2,3,4,5,6]\n",
        "for x in numbers:\n",
        "  if x%2 ==0:\n",
        "    print(x)"
      ],
      "execution_count": 0,
      "outputs": [
        {
          "output_type": "stream",
          "text": [
            "2\n",
            "4\n",
            "6\n"
          ],
          "name": "stdout"
        }
      ]
    },
    {
      "cell_type": "markdown",
      "metadata": {
        "id": "urGVwGmkabE7",
        "colab_type": "text"
      },
      "source": [
        "#class inheritence"
      ]
    },
    {
      "cell_type": "code",
      "metadata": {
        "id": "qaJnGs7AagAd",
        "colab_type": "code",
        "outputId": "9be17d34-0a91-4584-c63b-dcbae0006a66",
        "colab": {
          "base_uri": "https://localhost:8080/",
          "height": 34
        }
      },
      "source": [
        "#retrive the wine dataset from scikit learn\n",
        "from sklearn import datasets\n",
        "datasets.load_wine().keys()"
      ],
      "execution_count": 0,
      "outputs": [
        {
          "output_type": "execute_result",
          "data": {
            "text/plain": [
              "dict_keys(['data', 'target', 'target_names', 'DESCR', 'feature_names'])"
            ]
          },
          "metadata": {
            "tags": []
          },
          "execution_count": 6
        }
      ]
    },
    {
      "cell_type": "code",
      "metadata": {
        "id": "eFB2kYqjaZeL",
        "colab_type": "code",
        "outputId": "b9166aea-ffc5-4ff9-b523-a4130bab1970",
        "colab": {
          "base_uri": "https://localhost:8080/",
          "height": 171
        }
      },
      "source": [
        "datasets.load_wine()"
      ],
      "execution_count": 0,
      "outputs": [
        {
          "output_type": "error",
          "ename": "NameError",
          "evalue": "ignored",
          "traceback": [
            "\u001b[0;31m---------------------------------------------------------------------------\u001b[0m",
            "\u001b[0;31mNameError\u001b[0m                                 Traceback (most recent call last)",
            "\u001b[0;32m<ipython-input-2-0b333cbacd1b>\u001b[0m in \u001b[0;36m<module>\u001b[0;34m()\u001b[0m\n\u001b[0;32m----> 1\u001b[0;31m \u001b[0mdatasets\u001b[0m\u001b[0;34m.\u001b[0m\u001b[0mload_wine\u001b[0m\u001b[0;34m(\u001b[0m\u001b[0;34m)\u001b[0m\u001b[0;34m\u001b[0m\u001b[0;34m\u001b[0m\u001b[0m\n\u001b[0m",
            "\u001b[0;31mNameError\u001b[0m: name 'datasets' is not defined"
          ]
        }
      ]
    },
    {
      "cell_type": "code",
      "metadata": {
        "id": "TEU4wR_elTcR",
        "colab_type": "code",
        "colab": {}
      },
      "source": [
        ""
      ],
      "execution_count": 0,
      "outputs": []
    },
    {
      "cell_type": "code",
      "metadata": {
        "id": "R_LDM2XSe87a",
        "colab_type": "code",
        "colab": {}
      },
      "source": [
        ""
      ],
      "execution_count": 0,
      "outputs": []
    },
    {
      "cell_type": "code",
      "metadata": {
        "id": "gSku63dcfGh-",
        "colab_type": "code",
        "outputId": "8d16a652-f776-4c1d-fef6-51990fb20bbb",
        "colab": {
          "base_uri": "https://localhost:8080/",
          "height": 34
        }
      },
      "source": [
        "#function|method\n",
        "student1={'name':'nisa','age':22,'gender':'female'}\n",
        "student2={'name':'rita','age':32,'gender':'female'}\n",
        "student3={'name':'roy','age':42,'gender':'male'}\n",
        "\n",
        "#def is used to define funcion\n",
        "def print_values(my_dictionary):\n",
        "  return my_dictionary.values()\n",
        "print(print_values(student1))"
      ],
      "execution_count": 0,
      "outputs": [
        {
          "output_type": "stream",
          "text": [
            "dict_values(['nisa', 22, 'female'])\n"
          ],
          "name": "stdout"
        }
      ]
    },
    {
      "cell_type": "code",
      "metadata": {
        "id": "XdSLiJ5RfpU0",
        "colab_type": "code",
        "colab": {}
      },
      "source": [
        "#print a list having even nos using functions having a for loop\n",
        "lst=[1,2,3,4,5,6,7,8]\n",
        "\n",
        "def even(even_nos):\n",
        "  for x in even_nos:\n",
        "    if x%2==0:\n",
        "      print(x,end=\" \")\n",
        "  \n"
      ],
      "execution_count": 0,
      "outputs": []
    },
    {
      "cell_type": "code",
      "metadata": {
        "id": "cLr5NseynTG7",
        "colab_type": "code",
        "outputId": "a801d4b8-f28c-4381-d2bc-394eb7e8f6ee",
        "colab": {
          "base_uri": "https://localhost:8080/",
          "height": 34
        }
      },
      "source": [
        "even(lst)"
      ],
      "execution_count": 0,
      "outputs": [
        {
          "output_type": "stream",
          "text": [
            "2 4 6 8 "
          ],
          "name": "stdout"
        }
      ]
    },
    {
      "cell_type": "code",
      "metadata": {
        "id": "G4aCHo_iorPt",
        "colab_type": "code",
        "outputId": "ad1b4e22-d241-4eca-a7d1-efa72f69c02b",
        "colab": {
          "base_uri": "https://localhost:8080/",
          "height": 68
        }
      },
      "source": [
        "list=[1,2,3,5,6]\n",
        "def odd(odd_nos):\n",
        "  for x in odd_nos:\n",
        "    if x%2 !=0:\n",
        "      print(x)\n",
        "odd(list)"
      ],
      "execution_count": 0,
      "outputs": [
        {
          "output_type": "stream",
          "text": [
            "1\n",
            "3\n",
            "5\n"
          ],
          "name": "stdout"
        }
      ]
    }
  ]
}